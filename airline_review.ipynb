{
  "nbformat": 4,
  "nbformat_minor": 0,
  "metadata": {
    "colab": {
      "provenance": [],
      "authorship_tag": "ABX9TyNM9ulnE+5NWix2yapZUV/U",
      "include_colab_link": true
    },
    "kernelspec": {
      "name": "python3",
      "display_name": "Python 3"
    },
    "language_info": {
      "name": "python"
    }
  },
  "cells": [
    {
      "cell_type": "markdown",
      "metadata": {
        "id": "view-in-github",
        "colab_type": "text"
      },
      "source": [
        "<a href=\"https://colab.research.google.com/github/ibn-e-zulfiqar/British-airline-internship-/blob/main/airline_review.ipynb\" target=\"_parent\"><img src=\"https://colab.research.google.com/assets/colab-badge.svg\" alt=\"Open In Colab\"/></a>"
      ]
    },
    {
      "cell_type": "markdown",
      "source": [
        "Scrap and save in data.txt"
      ],
      "metadata": {
        "id": "wzBT7MY2kujr"
      }
    },
    {
      "cell_type": "code",
      "source": [
        "import pandas as pd\n",
        "import requests\n",
        "from bs4 import BeautifulSoup\n",
        "\n",
        "urls=['https://www.airlinequality.com/airline-reviews/british-airways/?sortby=post_date%3ADesc&pagesize=100',\n",
        "      'https://www.airlinequality.com/airline-reviews/british-airways/page/2/?sortby=post_date%3ADesc&pagesize=100',\n",
        "      'https://www.airlinequality.com/airline-reviews/british-airways/page/3/?sortby=post_date%3ADesc&pagesize=100',\n",
        "      'https://www.airlinequality.com/airline-reviews/british-airways/page/4/?sortby=post_date%3ADesc&pagesize=100',\n",
        "      'https://www.airlinequality.com/airline-reviews/british-airways/page/5/?sortby=post_date%3ADesc&pagesize=100',\n",
        "      'https://www.airlinequality.com/airline-reviews/british-airways/page/6/?sortby=post_date%3ADesc&pagesize=100',\n",
        "      'https://www.airlinequality.com/airline-reviews/british-airways/page/7/?sortby=post_date%3ADesc&pagesize=100',\n",
        "      'https://www.airlinequality.com/airline-reviews/british-airways/page/8/?sortby=post_date%3ADesc&pagesize=100',\n",
        "      'https://www.airlinequality.com/airline-reviews/british-airways/page/9/?sortby=post_date%3ADesc&pagesize=100',\n",
        "      'https://www.airlinequality.com/airline-reviews/british-airways/page/10/?sortby=post_date%3ADesc&pagesize=100',\n",
        "\n",
        "]\n",
        "\n",
        "with open(\"data.txt\",\"w\", encoding=\"utf-8\") as f:\n",
        " for url in urls:\n",
        "    page = requests.get(url)\n",
        "    soup = BeautifulSoup(page.content, 'html.parser')\n",
        "    reviews = soup.find_all(\"article\", itemtype=\"http://schema.org/Review\")\n",
        "    f.write('\\n'.join(str(r) for r in reviews) + '\\n')\n",
        "\n",
        "\n"
      ],
      "metadata": {
        "id": "401lTRxw1QJl"
      },
      "execution_count": null,
      "outputs": []
    },
    {
      "cell_type": "markdown",
      "source": [
        "cleaning"
      ],
      "metadata": {
        "id": "ID04pon6k4Sl"
      }
    },
    {
      "cell_type": "code",
      "source": [
        "with open(\"data.txt\", \"r\", encoding=\"utf-8\") as file:\n",
        "    html = file.read()\n",
        "\n",
        "soup = BeautifulSoup(html, \"html.parser\")\n",
        "reviews = soup.find_all(\"article\")\n",
        "\n",
        "def get_stat(review, label):\n",
        "    tag = review.find(\"td\", class_=\"review-rating-header \" + label)\n",
        "    if not tag:\n",
        "        return \"N/A\"\n",
        "    value_cell = tag.find_next_sibling(\"td\")\n",
        "    if value_cell is None:\n",
        "        return \"N/A\"\n",
        "    if \"stars\" in value_cell.get(\"class\", []):\n",
        "        return str(len(value_cell.find_all(\"span\", class_=\"star fill\")))\n",
        "    return value_cell.text.strip()\n",
        "\n",
        "records = []\n",
        "\n",
        "for review in reviews:\n",
        "    try:\n",
        "        record = {\n",
        "            \"date_published\": review.find(\"meta\", itemprop=\"datePublished\")[\"content\"],\n",
        "            \"rating\": review.find(\"span\", itemprop=\"ratingValue\").text.strip(),\n",
        "            \"title\": review.find(\"h2\", class_=\"text_header\").text.strip(),\n",
        "            \"author\": review.find(\"span\", itemprop=\"name\").text.strip(),\n",
        "            \"review_text\": review.find(\"div\", itemprop=\"reviewBody\").text.strip(),\n",
        "            \"aircraft\": get_stat(review, \"aircraft\"),\n",
        "            \"type_of_traveller\": get_stat(review, \"type_of_traveller\"),\n",
        "            \"cabin_flown\": get_stat(review, \"cabin_flown\"),\n",
        "            \"route\": get_stat(review, \"route\"),\n",
        "            \"date_flown\": get_stat(review, \"date_flown\"),\n",
        "            \"seat_comfort\": get_stat(review, \"seat_comfort\"),\n",
        "            \"cabin_staff_service\": get_stat(review, \"cabin_staff_service\"),\n",
        "            \"food_and_beverages\": get_stat(review, \"food_and_beverages\"),\n",
        "            \"inflight_entertainment\": get_stat(review, \"inflight_entertainment\"),\n",
        "            \"ground_service\": get_stat(review, \"ground_service\"),\n",
        "            \"wifi_and_connectivity\": get_stat(review, \"wifi_and_connectivity\"),\n",
        "            \"value_for_money\": get_stat(review, \"value_for_money\"),\n",
        "            \"recommended\": get_stat(review, \"recommended\"),\n",
        "        }\n",
        "        records.append(record)\n",
        "    except Exception as e:\n",
        "        print(\"Skipped a review due to error:\", e)\n",
        "\n",
        "# Save to Excel using pandas\n",
        "df = pd.DataFrame(records)\n",
        "df.to_excel(\"reviews.xlsx\", index=False)\n",
        "\n"
      ],
      "metadata": {
        "id": "dOK0UbxpKGBV"
      },
      "execution_count": null,
      "outputs": []
    }
  ]
}